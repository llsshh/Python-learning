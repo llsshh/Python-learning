{
 "cells": [
  {
   "cell_type": "markdown",
   "metadata": {},
   "source": [
    "# Python 学习笔记  \n",
    "***  \n",
    "*https://docs.python.org/zh-cn/3.8/tutorial/index.html*  \n",
    "## Markdown学习  \n",
    "### 1 基本  \n",
    "1.1 标题&分割线  \n",
    "换行需要末尾空2格再回车\n",
    "# 1级标题  \n",
    "## 2级标题  \n",
    "### 3级标题  \n",
    "以下是分割线  \n",
    "***\n",
    "- - -\n",
    "___\n",
    "列表小圆点可用 - 、+ 、\\*  \n",
    "- 1.格式1  \n",
    "- 2.格式2  \n",
    "    \n",
    "1.2 加粗&倾斜&删除  \n",
    "*我是斜体*  \n",
    "**我是粗体**  \n",
    "***我是粗斜体***  \n",
    "~~我被删除了可恶~~ "
   ]
  },
  {
   "cell_type": "code",
   "execution_count": null,
   "metadata": {},
   "outputs": [],
   "source": [
    "from torch.utils.data import Dataset\n",
    "Dataset??"
   ]
  },
  {
   "cell_type": "code",
   "execution_count": null,
   "metadata": {},
   "outputs": [],
   "source": [
    "import torch\n",
    "torch.cuda.is_available() #torch的cuda是否可用"
   ]
  },
  {
   "cell_type": "code",
   "execution_count": null,
   "metadata": {},
   "outputs": [],
   "source": [
    "5+2j #复数\n",
    "print(-3**2)       #因为 ** 比 - 有更高的优先级, 故-3**2 会被解释成 -(3**2)\n",
    "print((-3)**2)"
   ]
  },
  {
   "cell_type": "code",
   "execution_count": null,
   "metadata": {},
   "outputs": [],
   "source": [
    "print('\"Isn\\\\\\'t,\" they said.')\n",
    "print(r'\"Isn\\\\\\'t,\" they said.') # 不希往 \\ 代表转义，希望输出 \\ ，可以使用 原始字符串 方式，在引号前添加r"
   ]
  },
  {
   "cell_type": "code",
   "execution_count": null,
   "metadata": {},
   "outputs": [],
   "source": [
    "print(\"\"\"\\\n",
    "Usage: thingy [OPTIONS]\n",
    "     -h                        Display this usage message\n",
    "     -H hostname               Hostname to connect to\n",
    "\"\"\")\n",
    "#字符串字面值可以跨行连续输入。一种方式是用三重引号：\"\"\"...\"\"\" 或 '''...'''\n",
    "# 第一行print(\"\"\"\\ 部分，去掉 \\ 会输出空行（输出了第一个换行符）"
   ]
  },
  {
   "cell_type": "code",
   "execution_count": null,
   "metadata": {},
   "outputs": [],
   "source": [
    "# 3 times 'un', followed by 'ium''\n",
    "print(3 * 'un' + 'ium')\n",
    "print('Py''thon')\n",
    "print('Py'           'thon') #相邻的两个或多个 字符串字面值 （引号引起来的字符）将会自动连接到一起."
   ]
  },
  {
   "cell_type": "code",
   "execution_count": null,
   "metadata": {},
   "outputs": [],
   "source": [
    "print(\"1\")\n",
    "\"dddddddddddd\"\n",
    "\"sssssssssssssssssssss\"\n",
    "print(\"2\")\n",
    "(\"dddddddddddd\"\n",
    "\"sssssssssssssssssssss\")"
   ]
  },
  {
   "cell_type": "code",
   "execution_count": null,
   "metadata": {},
   "outputs": [],
   "source": [
    "word = 'Python'\n",
    "word[0]  # character in position 0\n",
    "word[5]  # character in position 5\n",
    "\n",
    "#索引也可以用负数，这种会从右边开始数:\n",
    "word[-1]  # last character 最后1位\n",
    "word[-2]  # second-last character 最后2位"
   ]
  },
  {
   "cell_type": "code",
   "execution_count": null,
   "metadata": {},
   "outputs": [],
   "source": [
    ">>> word[:2]   # character from the beginning to position 2 (excluded)\n",
    "'Py'\n",
    ">>> word[4:]   # characters from position 4 (included) to the end\n",
    "'on'\n",
    ">>> word[-2:]  # characters from the second-last (included) to the end\n",
    "'on'\n",
    "您也可以这么理解切片：将索引视作指向字符 之间 ，第一个字符的左侧标为0，最后一个字符的右侧标为 n ，其中 n 是字符串长度。例如:\n",
    "\n",
    " +---+---+---+---+---+---+\n",
    " | P | y | t | h | o | n |\n",
    " +---+---+---+---+---+---+\n",
    " 0   1   2   3   4   5   6\n",
    "-6  -5  -4  -3  -2  -1\n",
    " ：  x   x   x   x   x   ："
   ]
  },
  {
   "cell_type": "code",
   "execution_count": null,
   "metadata": {},
   "outputs": [],
   "source": [
    "a = [['a','b','c'], [1, 2, 3,[4,5]]]  #表是嵌套表"
   ]
  },
  {
   "cell_type": "code",
   "execution_count": null,
   "metadata": {},
   "outputs": [],
   "source": [
    "a, b = 0, 1    #多重赋值: 变量 a 和 b 同时得到了新值 0 和 1\n",
    "while a < 10:\n",
    "    print(a)\n",
    "    a,b = b, a+b"
   ]
  },
  {
   "cell_type": "code",
   "execution_count": null,
   "metadata": {},
   "outputs": [],
   "source": [
    "i = 2\n",
    "print('abc is',i) #参数项之间会插入一个空格\n",
    "print(\"abc是%d\" %i)  #不想空格\n",
    "print(\"abc是%d\" , %i)  #注意不能加 , 语法报错"
   ]
  },
  {
   "cell_type": "code",
   "execution_count": null,
   "metadata": {},
   "outputs": [],
   "source": [
    "a, b = 0, 1   \n",
    "while a < 10:\n",
    "    print(a)           #print后默认自动换行\n",
    "    a,b = b, a+b\n",
    "\n",
    "print('\\n')\n",
    "\n",
    "a, b = 0, 1\n",
    "while a < 10:\n",
    "    print(a, end = '\\n')\n",
    "    a,b = b, a+b\n",
    "\n",
    "a, b = 0, 1\n",
    "while a < 10:\n",
    "    print(a, end = '')   #关键字参数 end 可以用来取消输出后面的换行, 或是用另外一个字符串来结尾:\n",
    "    a,b = b, a+b\n",
    "print('\\n')\n",
    "a, b = 0, 1\n",
    "while a < 10:\n",
    "    print(a, end = ', ')\n",
    "    a,b = b, a+b"
   ]
  },
  {
   "cell_type": "code",
   "execution_count": null,
   "metadata": {},
   "outputs": [],
   "source": [
    "hhh"
   ]
  }
 ],
 "metadata": {
  "kernelspec": {
   "display_name": "Python 3",
   "language": "python",
   "name": "python3"
  },
  "language_info": {
   "codemirror_mode": {
    "name": "ipython",
    "version": 3
   },
   "file_extension": ".py",
   "mimetype": "text/x-python",
   "name": "python",
   "nbconvert_exporter": "python",
   "pygments_lexer": "ipython3",
   "version": "3.7.6-final"
  }
 },
 "nbformat": 4,
 "nbformat_minor": 4
}