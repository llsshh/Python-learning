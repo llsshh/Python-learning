{
 "cells": [
  {
   "cell_type": "markdown",
   "metadata": {},
   "source": [
    "# Python 学习笔记  \n",
    "***  \n",
    "*https://docs.python.org/zh-cn/3.8/tutorial/index.html*  \n",
    "## Markdown学习  \n",
    "### 1 基本  \n",
    "1.1 标题&分割线  \n",
    "换行需要末尾空2格再回车\n",
    "# 1级标题  \n",
    "## 2级标题  \n",
    "### 3级标题  \n",
    "以下是分割线  \n",
    "***\n",
    "- - -\n",
    "___\n",
    "列表小圆点可用 - 、+ 、\\*  \n",
    "- 1.格式1  \n",
    "- 2.格式2  \n",
    "    \n",
    "1.2 加粗&倾斜&删除  \n",
    "*我是斜体*  \n",
    "**我是粗体**  \n",
    "***我是粗斜体***  \n",
    "~~我被删除了可恶~~ "
   ]
  },
  {
   "cell_type": "markdown",
   "metadata": {},
   "source": [
    "# Python 基础语法 和 设计原理\n",
    "\n",
    "## 1. 基本数据类型\n",
    "### 复数"
   ]
  },
  {
   "cell_type": "code",
   "execution_count": null,
   "metadata": {},
   "outputs": [],
   "source": [
    "5+2j # 复数\n",
    "a = abs(5+2j - (1+3j)) # 求距离\n",
    "1j   # j无定义，必须 1j\n"
   ]
  },
  {
   "cell_type": "markdown",
   "metadata": {},
   "source": [
    "### 运算符"
   ]
  },
  {
   "cell_type": "code",
   "execution_count": null,
   "metadata": {},
   "outputs": [],
   "source": [
    "print(a)\n",
    "print(-3**2)       # 因为 ** 比 - 有更高的优先级, 故-3**2 会被解释成 -(3**2)\n",
    "print((-3)**2)"
   ]
  },
  {
   "cell_type": "markdown",
   "metadata": {},
   "source": [
    "### 字符串"
   ]
  },
  {
   "cell_type": "code",
   "execution_count": null,
   "metadata": {},
   "outputs": [],
   "source": [
    "print('\"Isn\\\\\\'t,\" they said.')\n",
    "print(r'\"Isn\\\\\\'t,\" they said.') # 不希望 \\ 代表转义，希望输出 \\ ，可以使用 原始字符串 方式，在引号前添加r"
   ]
  },
  {
   "cell_type": "code",
   "execution_count": null,
   "metadata": {},
   "outputs": [],
   "source": [
    "print(\"\"\"\\\n",
    "Usage: thingy [OPTIONS]\n",
    "     -h                        Display this usage message\n",
    "     -H hostname               Hostname to connect to\n",
    "\"\"\")\n",
    "# 字符串字面值可以跨行连续输入。一种方式是用三重引号：\"\"\"...\"\"\" 或 '''...'''\n",
    "# 第一行print(\"\"\"\\ 部分，去掉 \\ 会输出空行（输出了第一个换行符）"
   ]
  },
  {
   "cell_type": "code",
   "execution_count": null,
   "metadata": {},
   "outputs": [],
   "source": [
    "# 3 times 'un', followed by 'ium''\n",
    "print(3 * 'un' + 'ium')\n",
    "print('Py''thon')\n",
    "print('Py'           'thon') # 相邻的两个或多个 字符串字面值 （引号引起来的字符）将会自动连接到一起."
   ]
  },
  {
   "cell_type": "code",
   "execution_count": null,
   "metadata": {},
   "outputs": [],
   "source": [
    "(\"dddddddddddd\"\n",
    "\"sssssssssssssssssssss\")"
   ]
  },
  {
   "cell_type": "code",
   "execution_count": null,
   "metadata": {},
   "outputs": [],
   "source": [
    "i = 2\n",
    "print('abc is',i) # 参数项之间会默认插入一个空格\n",
    "print('abc是',i,sep = '')    # 不想空格1 （默认的sep = ' ', 关键字参数可更改）\n",
    "print(\"abc是%d\" %i)          # 不想空格2  \n",
    "# print(\"abc是%d\" , %i)  # 注意 \" 和 % 之间不能加 , 语法报错 "
   ]
  },
  {
   "cell_type": "code",
   "execution_count": null,
   "metadata": {},
   "outputs": [],
   "source": [
    "print('aBc'.upper())             # 全变大写\n",
    "print('aBc'.lower())             # 全变小写\n",
    "print('aBc'.swapcase())          # 大小互换\n",
    "print('I will be splited'.split(' ')) # 分开字符 (默认无输入时，按空格分开)\n",
    "print(' '.join(['I','will','be','joined'])) # 加空格 连接字符\n",
    "print('LSH said LSH...LSH'.replace('LSH','YYQ')) # 替换字符 LSH--->YYQ"
   ]
  },
  {
   "cell_type": "markdown",
   "metadata": {},
   "source": [
    "## 2.容器类型 list、tuple、dict、set \n",
    "### 数字索引和切片"
   ]
  },
  {
   "cell_type": "code",
   "execution_count": null,
   "metadata": {},
   "outputs": [],
   "source": [
    "word = 'Python'\n",
    "word[0]  # character in position 0\n",
    "word[5]  # character in position 5\n",
    "\n",
    "# 索引也可以用负数，这种会从右边开始数:\n",
    "word[-1]  # last character 最后1位\n",
    "word[-2]  # second-last character 最后2位"
   ]
  },
  {
   "cell_type": "code",
   "execution_count": null,
   "metadata": {},
   "outputs": [],
   "source": [
    ">>> word[:2]   # character from the beginning to position 2 (excluded)\n",
    "'Py'\n",
    ">>> word[4:]   # characters from position 4 (included) to the end\n",
    "'on'\n",
    ">>> word[-2:]  # characters from the second-last (included) to the end\n",
    "'on'\n",
    "您也可以这么理解切片：将索引视作指向字符 之间 ，第一个字符的左侧标为0，最后一个字符的右侧标为 n ，其中 n 是字符串长度。例如:\n",
    "\n",
    " +---+---+---+---+---+---+\n",
    " | P | y | t | h | o | n |\n",
    " +---+---+---+---+---+---+\n",
    " 0   1   2   3   4   5   6\n",
    "-6  -5  -4  -3  -2  -1\n",
    " ：  x   x   x   x   x   ："
   ]
  },
  {
   "cell_type": "markdown",
   "metadata": {},
   "source": [
    "## 列表\n",
    "### list.copy()"
   ]
  },
  {
   "cell_type": "code",
   "execution_count": null,
   "metadata": {},
   "outputs": [],
   "source": [
    "a = [1,2,3]\n",
    "b = a\n",
    "c = a.copy()  # list.copy() 返回列表的一个浅拷贝。相当于 a[:] 。\n",
    "d = a[:]\n",
    "e = a.copy()\n",
    "f = a[:]\n",
    "print('a',id(a))\n",
    "print('b',id(b))\n",
    "print('c',id(c))\n",
    "print('d',id(d))\n",
    "print('e',id(e))\n",
    "print('f',id(f))"
   ]
  },
  {
   "cell_type": "code",
   "execution_count": null,
   "metadata": {},
   "outputs": [],
   "source": [
    "a = [['a','b','c'], [1, 2, 3,[4,5]]]  # 表是嵌套表 \n",
    "a = [1,3]\n",
    "print(id(a))\n",
    "a.clear()\n",
    "print(id(a))\n",
    "print(id([]))\n",
    "\n",
    "print(a is [])    # is 判断两对象的 “id\" 是否相同，即是否完全同一  --> 是 的概念  同一性\n",
    "print(a == [])    # == 判断两对象的 “值” 是否相同                 --> 等 的概念  相等性"
   ]
  },
  {
   "cell_type": "code",
   "execution_count": null,
   "metadata": {},
   "outputs": [],
   "source": [
    "# [] 的id 会变，任何存储空间id 都可能放[]\n",
    "print(id([]))\n",
    "print(id([]))\n",
    "# None 的 id 不会变, 只有唯一的存储空间存放，所以判断 == None 即 判断 是 None\n",
    "# is None、is not None 是规范的， == None 写法不规范\n",
    "print(id(None))\n",
    "print(id(None))"
   ]
  },
  {
   "cell_type": "code",
   "execution_count": null,
   "metadata": {},
   "outputs": [],
   "source": [
    "a = [1,4,5,2,3]\n",
    "a.sort()\n",
    "print(a)\n",
    "a.sort(reverse = True)\n",
    "print(a)\n",
    "b = sorted(a)\n",
    "print(a)\n",
    "print(b)"
   ]
  },
  {
   "cell_type": "code",
   "execution_count": null,
   "metadata": {},
   "outputs": [],
   "source": [
    "a=[3,5,2,4,3,2,1,3,4,3, 6, 3]\n",
    "#  0 1 2 3 4 5 6 7 8 9 10 11\n",
    "# 查找值，并返回所有索引\n",
    "def GetPosition(key,ilist):\n",
    "    return [idx for (idx,item) in enumerate(ilist) if item == key]  # 表达绝了！\n",
    "#或:return [idx for  idx,item  in enumerate(ilist) if item == key]  # 可省去 元组的括号\n",
    "print(GetPosition(3,a))\n",
    "\n",
    "# 只返回第一个索引\n",
    "print(a.index(3))"
   ]
  },
  {
   "cell_type": "code",
   "execution_count": null,
   "metadata": {},
   "outputs": [],
   "source": [
    "a=[3,5,2,4,3,2,1,3,4,3, 6, 3]\n",
    "list(enumerate(a))"
   ]
  },
  {
   "cell_type": "markdown",
   "metadata": {},
   "source": [
    "## 元组"
   ]
  },
  {
   "cell_type": "code",
   "execution_count": null,
   "metadata": {},
   "outputs": [],
   "source": [
    "tuple = ( 'runoob', 786 , 2.23, 'john', 70.2 )\n",
    "tuple[0] = 'r'\n",
    "# TypeError: 'tuple' object does not support item assignment\n",
    "# 元组类型 不支持元素修改，相当于只读列表"
   ]
  },
  {
   "cell_type": "markdown",
   "metadata": {},
   "source": [
    "## 字典\n",
    "### 定义、.update() 时 自动覆盖更新"
   ]
  },
  {
   "cell_type": "code",
   "execution_count": null,
   "metadata": {
    "tags": []
   },
   "outputs": [],
   "source": [
    "a = {1:'a', 2:'bb', 2:'b'}  # 同一key 出现多次，取最后一个 key 的 value (最后一个 key 是最新的，覆盖前面旧值)\n",
    "a.update( {1:'c',3:'c'})   # 相当于 后面连接 新字典，然后自动更新\n",
    "print(a)                          # key 值是不可变的数据类型\n",
    "\n",
    "a[(4,5,6)] = '?'   # 用法错误，key 值 成了 （4，5，6），而不是新增 key 4、5、6\n",
    "print(a)\n",
    "\n",
    "del a[(4,5,6)]\n",
    "for i in range(4,7):\n",
    "    a[i] = chr(ord('a')-1 + i)\n",
    "a"
   ]
  },
  {
   "cell_type": "code",
   "execution_count": null,
   "metadata": {},
   "outputs": [],
   "source": [
    "int('a')"
   ]
  },
  {
   "cell_type": "code",
   "execution_count": null,
   "metadata": {},
   "outputs": [],
   "source": [
    "a = {1:'a', 2:'b', 2:'d'}\n",
    "a.update( newkey = 'abc') # key表达式 = value,这种形式 key 只能是一个字母开头的字符串（'名字'）\n",
    "a\n",
    "# a.update( 3 = 'c')  # error"
   ]
  },
  {
   "cell_type": "markdown",
   "metadata": {},
   "source": [
    "### dict.get、 dict[key]\n",
    "#### 注意：  \n",
    "* #### key值 必须为 immutable 类型（int、float、complex、bool、strings、tuple)   \n",
    "* #### dict 本身为 mutable 类型\n",
    "* #### 其 key值 不能直接修改，可采用pop的策略：dict['LSH'] = dict.pop('lsh')"
   ]
  },
  {
   "cell_type": "code",
   "execution_count": null,
   "metadata": {},
   "outputs": [],
   "source": [
    "a = {1:'a', 2:'b', 3:'c'}\n",
    "a[1] = 'A'      # [key] 访问，value 可修改\n",
    "b = a.get(1)    # get(key) 访问，value 只读 (必须放在 = 右边）\n",
    "print(a)\n",
    "print(b)\n",
    "a[0],a[1],a[2] = a.pop(1), a.pop(2), a.pop(3)\n",
    "# 单独一个更新，不需.updata()， a[新key] = value 就可以"
   ]
  },
  {
   "cell_type": "markdown",
   "metadata": {},
   "source": [
    "### dict.keys() 、.values()、  .items()"
   ]
  },
  {
   "cell_type": "code",
   "execution_count": null,
   "metadata": {
    "tags": []
   },
   "outputs": [],
   "source": [
    "a = {1:'a', 2:'b', 3:'c'}\n",
    "print(a.keys())\n",
    "print(a.values())\n",
    "print(a.items())\n",
    "  \n",
    "print('a.items:', type(a.items()))\n",
    "b1 = tuple(a.items())\n",
    "print('b1(用a.items转换):',b1)  #转换了完整的 keys 和 values\n",
    "b2 = tuple(a) \n",
    "print('b2(用a直接转换):',b2)    #只转换了 keys "
   ]
  },
  {
   "cell_type": "code",
   "execution_count": null,
   "metadata": {},
   "outputs": [],
   "source": [
    "# dict 的 in \n",
    "student = {'name':'lsh', 'age':23}\n",
    "print('name' in student)\n",
    "print('name' in student.keys())\n",
    "print()\n",
    "print('lsh' in student)\n",
    "print('lsh' in student.values())\n",
    "# 可见 字典 的 默认元素是 keys　而不是　values"
   ]
  },
  {
   "cell_type": "code",
   "execution_count": null,
   "metadata": {},
   "outputs": [],
   "source": [
    "adic = {'name':'Tome','age':18,'gender':'Male'}\n",
    "for k,v in adic.items():\n",
    "    print(k,v)"
   ]
  },
  {
   "cell_type": "markdown",
   "metadata": {},
   "source": [
    "## 集合"
   ]
  },
  {
   "cell_type": "code",
   "execution_count": null,
   "metadata": {},
   "outputs": [],
   "source": [
    "a = {'a','b','a'}  # 自动去重\n",
    "print(a)\n",
    "type(a)\n",
    "# set 是 dict 的一半信息，只包含 key (标签)\n",
    "# 元素不可变，不重复，没顺序"
   ]
  },
  {
   "cell_type": "code",
   "execution_count": null,
   "metadata": {},
   "outputs": [],
   "source": [
    "set('abc123~@#')  # 创建字符串时拆成单个"
   ]
  },
  {
   "cell_type": "code",
   "execution_count": null,
   "metadata": {},
   "outputs": [],
   "source": [
    "# 操作\n",
    "a = {'a','b','c'}\n",
    "a.add(1.2)\n",
    "print(a)\n",
    "a.update(['1'])\n",
    "print(a)\n",
    "a.discard('d')  # 移除 不存在 的元素 不会报错\n",
    "print(a)\n",
    "a.remove('d')   # 移除 不存在 的元素 会报错\n",
    "print(a)"
   ]
  },
  {
   "cell_type": "code",
   "execution_count": null,
   "metadata": {},
   "outputs": [],
   "source": [
    "a = {'a','b'}\n",
    "a.pop() # 随机弹出\n",
    "print(a)\n",
    "a.clear()\n",
    "len(a)"
   ]
  },
  {
   "cell_type": "code",
   "execution_count": null,
   "metadata": {
    "tags": []
   },
   "outputs": [],
   "source": [
    "a = {'a','b','c'}\n",
    "b = {'c','d','e'}\n",
    "print(a|b)     # 并\n",
    "print(a&b)     # 交\n",
    "print(a-b)     # 差\n",
    "print(b-a)\n",
    "print(a^b)     # 对称差 a-b 并 b-a\n",
    "print()\n",
    "print(a and b) # 逻辑值，a、b 都真，返回 b"
   ]
  },
  {
   "cell_type": "code",
   "execution_count": null,
   "metadata": {},
   "outputs": [],
   "source": [
    "a = {1,2,3}\n",
    "b = {1,2,3}\n",
    "c = {1,3}\n",
    "d = {1,2,3,4}\n",
    "e = {1,2,4}\n",
    "print(b == a) # 相等\n",
    "print(b <= a) # 子集\n",
    "print(c < a)  # 真子集\n",
    "print(d >= a) # 超集\n",
    "print(d > a)  # 真超集"
   ]
  },
  {
   "cell_type": "code",
   "execution_count": null,
   "metadata": {},
   "outputs": [],
   "source": [
    "a = [1,1,2,2,3,3] # 集合可以 用于去除 列表、元组 等类型的 重复元素\n",
    "s = set(a)\n",
    "# 含大量数据的列表 通过转换成集合 来查找 某一个元素 效率更高"
   ]
  },
  {
   "cell_type": "markdown",
   "metadata": {},
   "source": [
    "## 3.可变类型 和 不可变类型 (mutable & immutable Type)\n",
    "### 可变类型 的 引用\n"
   ]
  },
  {
   "cell_type": "code",
   "execution_count": null,
   "metadata": {},
   "outputs": [],
   "source": [
    "a = [1,2,3]\n",
    "print('id a',id(a))\n",
    "a1 = [a] * 3\n",
    "a2 = a * 3\n",
    "print(a1,'    id a1', id(a1))\n",
    "print(a2,'    id a2', id(a2))\n",
    "\n",
    "a[0] = '*' # 1 改成 '*'\n",
    "print()\n",
    "print(a1,'    id a1', id(a1))\n",
    "print(a2,'    id a2', id(a2))"
   ]
  },
  {
   "cell_type": "markdown",
   "metadata": {},
   "source": [
    "![df](Pictures\\可变变量的引用.jpg)  \n",
    "### a1 =\\[a\\]*3  \n",
    "### a1列表有三个元素，每个元素标签都指向(引用) a , 故 a 变化 a1 也随之改变"
   ]
  },
  {
   "cell_type": "code",
   "execution_count": null,
   "metadata": {},
   "outputs": [],
   "source": [
    "a,b = 1,2\n",
    "list1 = [a,b]\n",
    "list2 = [[a],[b]]\n",
    "a = b = 0             # list1、list2 不变， 因为： \n",
    "print(list1)          # list1 每个元素 引用的 是 原a、b 的值， 之后只改变了 a、b 的指向，不改变 list1 元素的指向\n",
    "print(list2)          # list2 每个元素 引用的 是 未命名的 [a] 和 [b]\n",
    "\n",
    "print()\n",
    "\n",
    "a  = [1,2]\n",
    "print(id(a))\n",
    "list1 = [a]\n",
    "list2 = a\n",
    "a = [0,0]\n",
    "print(id(a))          # 与上个例子相同，仅 a 指向的id 发生改变，\n",
    "print(list1)          # list1、list2 不变\n",
    "print(list2)\n",
    "\n",
    "print()\n",
    "\n",
    "a  = [1,2]\n",
    "print(a)\n",
    "print(id(a))\n",
    "list1 = [a]\n",
    "list2 = a\n",
    "a[:] = [0,0]\n",
    "print(id(a))          # a 指向 不发生改变， a 指向的 值 发生了改变\n",
    "print(list1)          # list1、list2 全变\n",
    "print(list2)"
   ]
  },
  {
   "cell_type": "markdown",
   "metadata": {},
   "source": [
    "## 4.控制流：顺序、分支、循环\n",
    "### 循环结构\n",
    "\n",
    "当 while/for 循环正常执行完的情况下，执行 else 输出；  \n",
    "如果当 while/for 循环中执行了跳出循环的语句，比如 break，将不执行 else 代码块的内容；\n",
    "\n",
    "这样非常好，可以省去用Flag标记 是否有 break"
   ]
  },
  {
   "cell_type": "code",
   "execution_count": null,
   "metadata": {},
   "outputs": [],
   "source": [
    "def maxfactor(n):\n",
    "    if n == 1:\n",
    "         print('1非质数也非合数')\n",
    "         return\n",
    "    for m in range(n//2,1,-1):\n",
    "        if n % m == 0:\n",
    "            print('最大约数:', m)\n",
    "            break;\n",
    "    else: print('一个质数')\n",
    "\n",
    "maxfactor(60)"
   ]
  },
  {
   "cell_type": "markdown",
   "metadata": {},
   "source": [
    "## 5.函数\n",
    "### 变量的作用域  局部变量&全局变量  \n",
    "全局变量和局部变量 可以 重名，局部变量 不会改变 全局变量 的值  \n",
    "函数内部，局部变量 m、n 未定义，则在 全局变量（外层变量）中查找，若外层有则使用其值，若无则报错"
   ]
  },
  {
   "cell_type": "code",
   "execution_count": null,
   "metadata": {},
   "outputs": [],
   "source": [
    "def f():\n",
    "    return m+n\n",
    "\n",
    "m = n = 1\n",
    "a = f()\n",
    "a"
   ]
  },
  {
   "cell_type": "markdown",
   "metadata": {},
   "source": [
    "函数内部定义全局变量， 可以修改 全局变量 的值"
   ]
  },
  {
   "cell_type": "code",
   "execution_count": null,
   "metadata": {},
   "outputs": [],
   "source": [
    "def f():\n",
    "    global m,n\n",
    "    m = n = 0\n",
    "\n",
    "m = n = 1\n",
    "f()\n",
    "print(m,n)"
   ]
  },
  {
   "cell_type": "code",
   "execution_count": null,
   "metadata": {},
   "outputs": [],
   "source": [
    "n1 = range(10)\n",
    "n2 = range(10,20)\n",
    "\n",
    "list(map(lambda a,b: b - a, n1, n2)) # map函数返回 map 类型"
   ]
  },
  {
   "cell_type": "markdown",
   "metadata": {},
   "source": [
    "### 关于函数的默认值只在定义时初次执行 &  \n",
    "### 函数在后续调用时未输入参数的存储值改变的问题"
   ]
  },
  {
   "cell_type": "code",
   "execution_count": null,
   "metadata": {},
   "outputs": [],
   "source": [
    "# python 动态语言：变量无需定义、不会分配内存空间，变量名只是一个“引用”（标签），指向的地址会随变量值改变而改变\n",
    "# 对于赋值  python 的 = 相当于 => , 而 C 的 = 相当于 <=\n",
    "#          python 相当于 标签 找 数据, 而 C 相当于 数据 找 地址\n",
    "\n",
    "# 重要警告： 默认值只会执行一次。这条规则在默认值为可变对象（列表、字典以及大多数类实    例）时很重要。比如，下面的函数会存储在后续调用中传递给它的参数:\n",
    "def f(a, L=[]):\n",
    "    L.append(a) # 每次调用f函数都会修改 L 的默认值!!!每次调用f函数 L 的默认值都不同 \n",
    "    return L\n",
    "print(f(1))\n",
    "print(f(2))\n",
    "print(f(3))\n",
    "print()\n",
    "# 如果你不想要在后续调用之间共享默认值，你可以这样写这个函数:\n",
    "def f(a, L=None):\n",
    "    if L is None: \n",
    "        L = []\n",
    "    L.append(a) # 事实上，每次调用L的默认值都是None\n",
    "    return L\n",
    "print(f(1))\n",
    "print(f(2))\n",
    "print(f(3))"
   ]
  },
  {
   "cell_type": "code",
   "execution_count": null,
   "metadata": {},
   "outputs": [],
   "source": [
    "def f(L=[]):\n",
    "    L.append(1)\n",
    "    return L\n",
    "# 定义后赋初值值 L = [], 此后不再赋默认值（赋初值）\n",
    "# 同样的函数，执行第一次和第n次的结果不一样-->(函数会存储在后续调用中传递给它的参数):\n",
    "f()        # 执行后，相当于 f.L = [1]\n",
    "a1 = f()   # f.L = [1,1]\n",
    "print(a1)  # 此时 a1 -> f.return = f.L =  [1,1]  指向f.return\n",
    "# id()用于返回对象的身份(identity),也就是该对象的内存地址。\n",
    "print('                ',id(f))   \n",
    "print('                ',id(f()))    #f.L = [1,1,1]\n",
    "print('                ',id(a1))\n",
    "f()  # f.L = [1,1,1,1]      \n",
    "print(a1)  \n",
    "print('                ',id(a1))\n",
    "a2 = f()\n",
    "print('                ',id(a2))\n",
    "print(a1)  # a1 -> f.return = [1,1,1,1,1]   a1、a2 都指向(贴在)了f函数的返回\n",
    "print(a2)  # a2 -> f.return = [1,1,1,1,1]\n"
   ]
  },
  {
   "cell_type": "code",
   "execution_count": null,
   "metadata": {},
   "outputs": [],
   "source": [
    "# 如果你不想要在后续调用之间共享默认值\n",
    "def f(L = None):\n",
    "    if L is None:\n",
    "        L = []\n",
    "    L.append(1)\n",
    "    return L\n",
    "    \n",
    "print(f())\n",
    "print(f())\n",
    "a1 = f()\n",
    "a2 = f()\n",
    "print(a1)\n",
    "print(a2)\n",
    "a3 = f([1])\n",
    "print(a3)"
   ]
  },
  {
   "cell_type": "code",
   "execution_count": null,
   "metadata": {},
   "outputs": [],
   "source": [
    "def cheeseshop(kind, *arguments, **keywords):\n",
    "    print(\"-- Do you have any\", kind, \"?\")\n",
    "    print(\"-- I'm sorry, we're all out of\", kind)\n",
    "    for arg in arguments:\n",
    "        print(arg)\n",
    "    print(\"-\" * 40)\n",
    "    for kw in keywords:\n",
    "        print(kw, \":\", keywords[kw])\n",
    "\n",
    "cheeseshop(\"Limburger\", s0 = \"It's very runny, sir.\",\n",
    "           s1 = \"It's really very, VERY runny, sir.\",\n",
    "           shopkeeper=\"Michael Palin\",\n",
    "           client=\"John Cleese\",\n",
    "           sketch=\"Cheese Shop Sketch\")"
   ]
  },
  {
   "cell_type": "code",
   "execution_count": null,
   "metadata": {},
   "outputs": [],
   "source": [
    "a = {'s':'df'}\n",
    "print(s)"
   ]
  },
  {
   "cell_type": "code",
   "execution_count": null,
   "metadata": {},
   "outputs": [],
   "source": [
    "args = 3, 6\n",
    "print(list(range(*args)))\n",
    "\n",
    "args2 = [3,6]\n",
    "list(range(*args2))"
   ]
  },
  {
   "cell_type": "markdown",
   "metadata": {},
   "source": [
    "### lambda 表达式"
   ]
  },
  {
   "cell_type": "code",
   "execution_count": null,
   "metadata": {},
   "outputs": [],
   "source": [
    "f = lambda x,y,z: (x+y+z, x*y*z, -x-y-z)   # lambda 参数（输入）：表达式（输出）\n",
    "# 作用1: 通过赋值匿名函数 快速定义一个有名字的简单函数 f\n",
    "f(1,2,3)"
   ]
  },
  {
   "cell_type": "code",
   "execution_count": null,
   "metadata": {},
   "outputs": [],
   "source": [
    "# 作用2：将lambda函数替换其他函数，起到改变函数、屏蔽函数的作用\n",
    "# 例如，为了把标准库time中的函数sleep的功能屏蔽(Mock)，我们可以在程序初始化时调用：\n",
    "time.sleep=lambda x:None"
   ]
  },
  {
   "cell_type": "code",
   "execution_count": null,
   "metadata": {},
   "outputs": [],
   "source": [
    "# 作用3：将lambda函数作为参数 传递 给其他函数\n",
    "# 部分Python函数接收函数作为参数。典型的有。\n",
    "# 1 sort\n",
    "pairs = [(1, 'one'), (2, 'two'), (3, 'three'), (4, 'four')]\n",
    "irs = [(1, 'one'), (2, 'two'), (3, 'three'), (4, 'four')]\n",
    "pairs.sort(key=lambda L: L[0]) # 0 是按第1个元素， 1是按第2个元素\n",
    "pairs"
   ]
  },
  {
   "cell_type": "code",
   "execution_count": null,
   "metadata": {},
   "outputs": [],
   "source": [
    "# 2 filter\n",
    "a = filter(lambda x: x % 3 == 0, [1, 2, 3,6,7,9]) # 返回一个filter对象\n",
    "list(a)   # 用list转化类型"
   ]
  },
  {
   "cell_type": "markdown",
   "metadata": {},
   "source": [
    "#### 函数解包"
   ]
  },
  {
   "cell_type": "code",
   "execution_count": null,
   "metadata": {},
   "outputs": [],
   "source": [
    "a = [1,3]\n",
    "range(*a)"
   ]
  },
  {
   "cell_type": "markdown",
   "metadata": {},
   "source": [
    "### 函数的说明文档"
   ]
  },
  {
   "cell_type": "code",
   "execution_count": null,
   "metadata": {},
   "outputs": [],
   "source": [
    "def my_function():\n",
    "    \"\"\"Do nothing, but document it.\n",
    "    No, really, it doesn't do anything.\n",
    "    \"\"\"\n",
    "    pass\n",
    "print(my_function.__doc__)"
   ]
  },
  {
   "cell_type": "markdown",
   "metadata": {},
   "source": [
    "## 6.杂"
   ]
  },
  {
   "cell_type": "code",
   "execution_count": null,
   "metadata": {},
   "outputs": [],
   "source": [
    "a = 1; b = 2; c = 3\n",
    "# 分号作用等同 换行 ，可以分隔 一句代码，所以可以 一行写 n 句代码"
   ]
  },
  {
   "cell_type": "code",
   "execution_count": null,
   "metadata": {},
   "outputs": [],
   "source": [
    "a, b = 0, 1    # 多重赋值: 变量 a 和 b 同时得到了新值 0 和 1\n",
    "while a < 10:\n",
    "    print(a)\n",
    "    a,b = b, a+b"
   ]
  },
  {
   "cell_type": "code",
   "execution_count": null,
   "metadata": {},
   "outputs": [],
   "source": [
    "a, b = 0, 1   \n",
    "while a < 10:\n",
    "    print(a)           # print后默认自动换行\n",
    "    a,b = b, a+b\n",
    "\n",
    "print('\\n')\n",
    "\n",
    "a, b = 0, 1\n",
    "while a < 10:\n",
    "    print(a, end = '\\n')\n",
    "    a,b = b, a+b\n",
    "\n",
    "a, b = 0, 1\n",
    "while a < 10:\n",
    "    print(a, end = '')   # 关键字参数 end 可以用来取消输出后面的换行, 或是用另外一个字符串来结尾:\n",
    "    a,b = b, a+b\n",
    "print('\\n')\n",
    "a, b = 0, 1\n",
    "while a < 10:\n",
    "    print(a, end = ', ')\n",
    "    a,b = b, a+b"
   ]
  },
  {
   "cell_type": "code",
   "execution_count": null,
   "metadata": {},
   "outputs": [],
   "source": [
    "season = ['sp', 'su','fa','wi']\n",
    "e = enumerate(season)\n",
    "print(e)   #枚举\n",
    "list(e)"
   ]
  },
  {
   "cell_type": "markdown",
   "metadata": {},
   "source": [
    "#### x+=1  与  x = x + 1 语义完全相同\n",
    "不会修改 x 的值, 而是 变量名 x 引用 到 x+1 的id上"
   ]
  },
  {
   "cell_type": "code",
   "execution_count": null,
   "metadata": {},
   "outputs": [],
   "source": [
    "a = b  = 0      # 0 的id 固定\n",
    "print(id(a))\n",
    "print(id(b)) \n",
    " \n",
    "a += 1          # a 新指向 1 的 id\n",
    "print(a)\n",
    "print(b)        # b 仍指向 0 的 id\n",
    "print(id(a))\n",
    "print(id(b))"
   ]
  },
  {
   "cell_type": "markdown",
   "metadata": {},
   "source": [
    "#### 正整数的 id "
   ]
  },
  {
   "cell_type": "code",
   "execution_count": null,
   "metadata": {},
   "outputs": [],
   "source": [
    "p = 0 # 0 1 2 3 4 等整数都有固定的id，不随运算次数改变\n",
    "id(p)"
   ]
  },
  {
   "cell_type": "markdown",
   "metadata": {},
   "source": [
    "#### 整数的除法和取余\n",
    "#### // 、%、 divmod()"
   ]
  },
  {
   "cell_type": "code",
   "execution_count": null,
   "metadata": {},
   "outputs": [],
   "source": [
    "print(5 // 2)\n",
    "print(5 % 2)\n",
    "print(divmod(5, 2))"
   ]
  },
  {
   "cell_type": "markdown",
   "metadata": {},
   "source": [
    "### round 函数的 特殊设计"
   ]
  },
  {
   "cell_type": "code",
   "execution_count": null,
   "metadata": {},
   "outputs": [],
   "source": [
    "print(round(1.5))\n",
    "print(round(-1.5))\n",
    "print(round(2.5))\n",
    "print(round(-2.5))\n",
    "print(round(12.345,2))\n",
    "print(round(22.345,2))     # (精度不一样，二进制存储后变成无限循环小数，再转换成十进制可能是 22.34500000000001)\n",
    "print(4.2 + 2.1)"
   ]
  },
  {
   "cell_type": "markdown",
   "metadata": {},
   "source": [
    "#### 容器/类型 为空，对应逻辑值均为 False"
   ]
  },
  {
   "cell_type": "code",
   "execution_count": null,
   "metadata": {},
   "outputs": [],
   "source": [
    "if \"\" or [] or () or None or {} :  # 容器/类型 为空，对应逻辑值均为 False\n",
    "    print(11111111)                #  不输出"
   ]
  },
  {
   "cell_type": "markdown",
   "metadata": {},
   "source": [
    "#### 转换成 2、8、16 进制函数 bin、oct、hex"
   ]
  },
  {
   "cell_type": "code",
   "execution_count": null,
   "metadata": {},
   "outputs": [],
   "source": [
    "hex(12) # 16进制\n",
    "oct(12) # 8\n",
    "bin(12) # 2"
   ]
  },
  {
   "cell_type": "code",
   "execution_count": null,
   "metadata": {},
   "outputs": [],
   "source": [
    " print(bool(10))\n",
    " print(int(10.5))\n",
    " print(int('10'))\n",
    " # print(int('a'))     # error\n",
    " print(float('10.53'))\n",
    " print(int(False))\n",
    " print(float(False))\n",
    " print(int(True))\n",
    " print(float(True))\n",
    " # print(int(None))    # error\n",
    " print(str(None)) \n",
    " str(10)\n",
    " \n",
    " # matlab str2num() 、num2str()"
   ]
  },
  {
   "cell_type": "markdown",
   "metadata": {},
   "source": [
    "#### 字符型char 和 整型int（ASCⅡ 对应的正整数）转换\n",
    "#### ord() 和 chr()"
   ]
  },
  {
   "cell_type": "code",
   "execution_count": null,
   "metadata": {},
   "outputs": [],
   "source": [
    "print(ord('a'))\n",
    "print(chr(97))\n"
   ]
  },
  {
   "cell_type": "markdown",
   "metadata": {},
   "source": [
    "#### 中文字符长度"
   ]
  },
  {
   "cell_type": "code",
   "execution_count": null,
   "metadata": {},
   "outputs": [],
   "source": [
    "len('你好')"
   ]
  },
  {
   "cell_type": "markdown",
   "metadata": {},
   "source": [
    "#### input()"
   ]
  },
  {
   "cell_type": "code",
   "execution_count": null,
   "metadata": {},
   "outputs": [],
   "source": [
    "b = input('输入x')"
   ]
  },
  {
   "cell_type": "code",
   "execution_count": null,
   "metadata": {},
   "outputs": [],
   "source": [
    " # a < b == c 会校验是否 a 小于 b 并且 b 等于 c。\n",
    " 1 < 2 <=2"
   ]
  },
  {
   "cell_type": "markdown",
   "metadata": {},
   "source": [
    "# Python标准库\n",
    "## 1. datetime\n",
    "### datetime.date()\n"
   ]
  },
  {
   "cell_type": "code",
   "execution_count": null,
   "metadata": {},
   "outputs": [],
   "source": [
    "import datetime\n",
    "print(datetime.date.today())\n",
    "print(datetime.date.today().strftime('%Y-%m-%d %H:%M:%S'))\n"
   ]
  },
  {
   "cell_type": "code",
   "execution_count": null,
   "metadata": {},
   "outputs": [],
   "source": []
  },
  {
   "cell_type": "code",
   "execution_count": null,
   "metadata": {},
   "outputs": [],
   "source": [
    "a = [1,2]\n",
    "b=a\n",
    "a is b"
   ]
  },
  {
   "cell_type": "markdown",
   "metadata": {},
   "source": [
    "### 序列和其它类型的比较"
   ]
  },
  {
   "cell_type": "code",
   "execution_count": null,
   "metadata": {},
   "outputs": [],
   "source": [
    "#序列对象通常可以与相同序列类型的其他对象比较。 这种比较使用 字典式 顺序：首先比较开头的两个对应元素，如果两者不相等则比较结果就由此确定；如果两者相等则比较之后的两个元素，以此类推，直到有一个序列被耗尽。 如果要比较的两个元素本身又是相同类型的序列，则会递归地执行字典式顺序比较。 如果两个序列中所有的对应元素都相等，则两个序列也将被视为相等。 如果一个序列是另一个的初始子序列，则较短的序列就被视为较小（较少）。 对于字符串来说，字典式顺序是使用 Unicode 码位序号对单个字符排序。 下面是一些相同类型序列之间比较的例子:\n",
    "(1, 2, 3)              < (1, 2, 4)\n",
    "[1, 2, 3]              < [1, 2, 4]\n",
    "'ABC' < 'C' < 'Pascal' < 'Python'\n",
    "(1, 2, 3, 4)           < (1, 2, 4)\n",
    "(1, 2)                 < (1, 2, -1)\n",
    "(1, 2, 3)             == (1.0, 2.0, 3.0)\n",
    "(1, 2, ('aa', 'ab'))   < (1, 2, ('abc', 'a'), 4)\n",
    "# 全为真"
   ]
  },
  {
   "cell_type": "code",
   "execution_count": null,
   "metadata": {},
   "outputs": [],
   "source": [
    "abs(-1)"
   ]
  },
  {
   "cell_type": "code",
   "execution_count": null,
   "metadata": {},
   "outputs": [],
   "source": [
    "def scope_test():\n",
    "    def do_local():\n",
    "        spam = \"local spam\"\n",
    "\n",
    "    def do_nonlocal():\n",
    "        nonlocal spam\n",
    "        spam = \"nonlocal spam\"\n",
    "\n",
    "    def do_global():\n",
    "        global spam\n",
    "        spam = \"global spam\"\n",
    "\n",
    "    spam = \"test spam\"\n",
    "    do_local()\n",
    "    print(\"After local assignment:\", spam)\n",
    "    do_nonlocal()\n",
    "    print(\"After nonlocal assignment:\", spam)\n",
    "    do_global()\n",
    "    print(\"After global assignment:\", spam)\n",
    "\n",
    "scope_test()\n",
    "print(\"In global scope:\", spam)"
   ]
  },
  {
   "cell_type": "markdown",
   "metadata": {},
   "source": [
    "# 类\n",
    "### 类对象支持两种操作：属性引用和实例化。"
   ]
  },
  {
   "cell_type": "code",
   "execution_count": null,
   "metadata": {},
   "outputs": [],
   "source": [
    "class MyClass:   # 类名规范：第1个字母大写，其余小写\n",
    "    \"\"\"A simple example class\"\"\"\n",
    "    i = 12345\n",
    "\n",
    "    def f(self):\n",
    "        return 'hello world'\n",
    "print(MyClass.i)\n",
    "print(MyClass.f)\n",
    "a = MyClass()"
   ]
  },
  {
   "cell_type": "code",
   "execution_count": null,
   "metadata": {},
   "outputs": [],
   "source": [
    "class Dog:\n",
    "    name = 'BLUE'                        # mutable 类型如果不定义在 方法(_init_) 内，就是 共享的\n",
    "    def jump(self):                      # immutable类型的属性、方法 都是 私有的\n",
    "        print('I can jump! Wang,wang')\n",
    "\n",
    "        \n",
    "dog1 = Dog()\n",
    "# 只要保证避免名称冲突,可以向一个 实例对象 任意添加 类中 未定义的 数据属性 而不会 影响 方法 的可用性\n",
    "dog1.son = 'bb'       # 命名不冲突，不响方法\n",
    "print(d.son)   \n",
    "dog1.jump()\n",
    "dog1.jump = 'error'   # 命名冲突，覆盖了方法（已丢失) dog1.jump 不再是函数，而变成了字符串 \n",
    "print(dog1.jump,'\\n')\n",
    "\n",
    "dog2 = Dog()          # 命名冲突 不会 影响 类，所以 新对象 jump 方法仍可用\n",
    "dog2.jump()"
   ]
  },
  {
   "cell_type": "code",
   "execution_count": null,
   "metadata": {},
   "outputs": [],
   "source": [
    "class test(object):\n",
    "    def __init__(self):\n",
    "        self.num = 10\n",
    "        self._num = 20\n",
    "        self.__num = 30    # (双下划线) __num 已经被重整为“_test__num”\n",
    "\n",
    "t = test()\n",
    "print(t.num)    # 10\n",
    "print(t._num)   # 20\n",
    "# print(t.__num)  # AttributeError: 'test' object has no attribute '__num'\n",
    "dir(t)"
   ]
  },
  {
   "cell_type": "code",
   "execution_count": null,
   "metadata": {},
   "outputs": [],
   "source": [
    "\n",
    "class test(object):\n",
    "    def __init__(self):\n",
    "        self.__num = 10\n",
    "        \n",
    "    def getNum(self):\n",
    "        return self.__num\n",
    "\n",
    "    def setNum(self, value):\n",
    "        self.__num = value\n",
    "\n",
    "t = test()\n",
    "print(t.getNum())   # 10\n",
    "t.setNum(20)\n",
    "print(t.getNum())   # 20\n",
    "t.__num"
   ]
  },
  {
   "cell_type": "code",
   "execution_count": null,
   "metadata": {},
   "outputs": [],
   "source": [
    "class DataSet(object):\n",
    "    def __init__(self):\n",
    "        self._images = 1\n",
    "        self._labels = 2 #定义属性的名称\n",
    "    @property\n",
    "    def images(self): #方法加入@property后，这个方法相当于一个属性，这个属性可以让用户进行使用，而且用户有没办法随意修改。\n",
    "        return self._images \n",
    "    @property\n",
    "    def labels(self):\n",
    "        return self._labels\n",
    "l = DataSet()\n",
    "#用户进行属性调用的时候，直接调用images即可，而不用知道属性名_images，因此用户无法更改属性，从而保护了类的属性。\n",
    "\n",
    "print(l.images) # 加了@property后，可以用调用属性的形式来调用方法,后面不需要加（）。\n",
    "# l.images = 2    # AttributeError: can't set attribute"
   ]
  },
  {
   "cell_type": "markdown",
   "metadata": {},
   "source": [
    "#### 可定义 空类 当作 结构体"
   ]
  },
  {
   "cell_type": "code",
   "execution_count": null,
   "metadata": {},
   "outputs": [],
   "source": [
    "class Employee:\n",
    "    pass\n",
    "\n",
    "john = Employee()  # Create an empty employee record\n",
    "\n",
    "# Fill the fields of the record\n",
    "john.name = 'John Doe'\n",
    "john.dept = 'computer lab'\n",
    "john.salary = 1000"
   ]
  },
  {
   "cell_type": "code",
   "execution_count": null,
   "metadata": {},
   "outputs": [],
   "source": [
    "# 2进制下保存的浮点数"
   ]
  },
  {
   "cell_type": "code",
   "execution_count": null,
   "metadata": {},
   "outputs": [],
   "source": [
    "print((0.3 / 3) == 0.1) #判断浮点数相等 不要用 == , 而应比较 差值的绝对值 是否足够小\n",
    "print(0.1 == 0.1)\n",
    "# 0.1 是二进制下的无限循环小数"
   ]
  },
  {
   "cell_type": "code",
   "execution_count": null,
   "metadata": {},
   "outputs": [],
   "source": [
    "import numpy as np\n",
    "import matplotlib.pyplot as plt\n",
    "\n",
    "A = 1\n",
    "T = 10\n",
    "\n",
    "t1 = np.linspace(0,T,51)\n",
    "y1 = A**2*t1\n",
    "t2 = np.linspace(T,2*T,51)\n",
    "y2 = A**2*(2*T-t2)\n",
    "t = np.hstack((t1,t2))\n",
    "y = np.hstack((y1,y2))\n",
    "\n",
    "plt.plot(t,y)\n",
    "plt.xlabel('t')\n",
    "plt.ylabel('y(t)')\n",
    "plt.show()"
   ]
  },
  {
   "cell_type": "code",
   "execution_count": null,
   "metadata": {},
   "outputs": [],
   "source": [
    "import torch"
   ]
  },
  {
   "cell_type": "code",
   "execution_count": null,
   "metadata": {
    "tags": []
   },
   "outputs": [],
   "source": [
    "c=[('1','2','3'),('a','b','c')]\n",
    "b = list(zip(*c))\n",
    "a = list(zip(*b))  # *代表对迭代器解压  zip(*arg) 代表解压再压缩\n",
    "# c 恒等于 zip(*zip(*c))  {c为zip对象}\n",
    "print(c)\n",
    "print(b)\n",
    "print(a)"
   ]
  },
  {
   "cell_type": "code",
   "execution_count": null,
   "metadata": {
    "tags": []
   },
   "outputs": [],
   "source": [
    "print('hello {1:>{1}} '.format('Kevin',50))"
   ]
  },
  {
   "cell_type": "code",
   "execution_count": null,
   "metadata": {},
   "outputs": [],
   "source": [
    "dffdf"
   ]
  },
  {
   "cell_type": "code",
   "execution_count": null,
   "metadata": {},
   "outputs": [],
   "source": [
    "dfdfa"
   ]
  }
 ],
 "metadata": {
  "kernelspec": {
   "display_name": "Python 3",
   "language": "python",
   "name": "python3"
  },
  "language_info": {
   "codemirror_mode": {
    "name": "ipython",
    "version": 3
   },
   "file_extension": ".py",
   "mimetype": "text/x-python",
   "name": "python",
   "nbconvert_exporter": "python",
   "pygments_lexer": "ipython3",
   "version": "3.7.6-final"
  }
 },
 "nbformat": 4,
 "nbformat_minor": 4
}